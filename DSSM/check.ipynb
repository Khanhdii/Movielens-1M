{
 "cells": [
  {
   "cell_type": "code",
   "id": "initial_id",
   "metadata": {
    "collapsed": true,
    "ExecuteTime": {
     "end_time": "2025-04-18T03:33:27.731912Z",
     "start_time": "2025-04-18T03:33:01.799814Z"
    }
   },
   "source": "from data import get_data_loaders",
   "outputs": [],
   "execution_count": 2
  },
  {
   "metadata": {
    "ExecuteTime": {
     "end_time": "2025-04-18T03:37:13.855191Z",
     "start_time": "2025-04-18T03:37:10.652206Z"
    }
   },
   "cell_type": "code",
   "source": [
    "ratings_file = 'C:/Users/Admin/Documents/Recomendation/movielens-1m/ratings.dat'\n",
    "movies_file = 'C:/Users/Admin/Documents/Recomendation/movielens-1m/movies.dat'"
   ],
   "id": "29973f93aec0332b",
   "outputs": [],
   "execution_count": 4
  },
  {
   "metadata": {
    "ExecuteTime": {
     "end_time": "2025-04-18T03:37:13.917254Z",
     "start_time": "2025-04-18T03:37:13.861275Z"
    }
   },
   "cell_type": "code",
   "source": [
    "train_loader, val_loader = get_data_loaders(ratings_file, movies_file, binary_classification=0)\n",
    "for i, (user, movie, rating) in enumerate(train_loader):\n",
    "    if i == 2:  # Lấy ra 2 batch để kiểm tra\n",
    "        break\n",
    "    print(f\"Rating: {rating}\")"
   ],
   "id": "ebaf934115c07dfe",
   "outputs": [
    {
     "name": "stdout",
     "output_type": "stream",
     "text": [
      "Rating: tensor([3, 4, 3, 4, 0, 3, 3, 2, 3, 2, 2, 2, 2, 3, 3, 3, 3, 2, 2, 1, 0, 3, 2, 1,\n",
      "        2, 2, 2, 4, 2, 2, 3, 2, 0, 3, 2, 2, 3, 3, 3, 3, 3, 3, 3, 3, 2, 2, 3, 3,\n",
      "        1, 2, 0, 2, 2, 3, 3, 0, 3, 3, 3, 4, 2, 3, 3, 4])\n",
      "Rating: tensor([2, 4, 3, 2, 2, 4, 3, 4, 2, 2, 4, 2, 4, 3, 1, 4, 3, 2, 3, 2, 3, 2, 4, 4,\n",
      "        3, 4, 3, 4, 3, 0, 3, 2, 4, 1, 3, 3, 4, 3, 3, 4, 2, 2, 2, 0, 1, 3, 3, 4,\n",
      "        2, 3, 2, 3, 4, 0, 1, 2, 1, 1, 1, 3, 2, 2, 1, 3])\n"
     ]
    }
   ],
   "execution_count": 5
  },
  {
   "metadata": {
    "ExecuteTime": {
     "end_time": "2025-04-18T03:37:36.990711Z",
     "start_time": "2025-04-18T03:37:33.929871Z"
    }
   },
   "cell_type": "code",
   "source": [
    "train_loader, val_loader = get_data_loaders(ratings_file, movies_file, binary_classification=1)\n",
    "for i, (user, movie, rating) in enumerate(train_loader):\n",
    "    if i == 2:  # Lấy ra 2 batch để kiểm tra\n",
    "        break\n",
    "    print(f\"Rating: {rating}\")"
   ],
   "id": "6669937f277d6215",
   "outputs": [
    {
     "name": "stdout",
     "output_type": "stream",
     "text": [
      "Rating: tensor([0, 0, 1, 1, 1, 1, 1, 0, 0, 0, 1, 1, 1, 0, 1, 1, 1, 1, 0, 0, 1, 1, 1, 1,\n",
      "        1, 1, 1, 0, 1, 1, 0, 1, 0, 1, 1, 1, 0, 0, 1, 0, 1, 1, 0, 0, 0, 1, 0, 1,\n",
      "        1, 1, 1, 1, 0, 0, 1, 0, 1, 1, 1, 0, 1, 1, 1, 0])\n",
      "Rating: tensor([0, 1, 1, 0, 1, 1, 1, 1, 0, 0, 0, 0, 1, 1, 1, 1, 1, 0, 1, 0, 1, 1, 1, 1,\n",
      "        0, 0, 0, 1, 1, 1, 0, 0, 1, 0, 1, 1, 0, 0, 0, 1, 1, 0, 1, 1, 0, 0, 1, 1,\n",
      "        0, 1, 1, 1, 1, 1, 1, 1, 1, 0, 0, 1, 0, 0, 1, 0])\n"
     ]
    }
   ],
   "execution_count": 6
  }
 ],
 "metadata": {
  "kernelspec": {
   "display_name": "Python 3",
   "language": "python",
   "name": "python3"
  },
  "language_info": {
   "codemirror_mode": {
    "name": "ipython",
    "version": 2
   },
   "file_extension": ".py",
   "mimetype": "text/x-python",
   "name": "python",
   "nbconvert_exporter": "python",
   "pygments_lexer": "ipython2",
   "version": "2.7.6"
  }
 },
 "nbformat": 4,
 "nbformat_minor": 5
}
